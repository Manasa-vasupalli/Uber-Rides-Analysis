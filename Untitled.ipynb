{
 "cells": [
  {
   "cell_type": "code",
   "execution_count": 1,
   "id": "1bb69847",
   "metadata": {},
   "outputs": [
    {
     "name": "stderr",
     "output_type": "stream",
     "text": [
      "24/04/29 07:38:36 WARN SparkSession: Using an existing Spark session; only runtime SQL configurations will take effect.\n"
     ]
    }
   ],
   "source": [
    "from pyspark.sql import SparkSession\n",
    "\n",
    "spark = SparkSession.builder \\\n",
    "    .appName(\"Uber Trip Data Analysis\") \\\n",
    "    .getOrCreate()\n"
   ]
  },
  {
   "cell_type": "code",
   "execution_count": 5,
   "id": "57e51b57",
   "metadata": {
    "scrolled": true
   },
   "outputs": [
    {
     "name": "stderr",
     "output_type": "stream",
     "text": [
      "\r",
      "                                                                                \r"
     ]
    }
   ],
   "source": [
    "# Read all Parquet files from a directory\n",
    "parquet_df = spark.read.parquet(\"Data\")\n"
   ]
  },
  {
   "cell_type": "code",
   "execution_count": 7,
   "id": "4c5fe522",
   "metadata": {},
   "outputs": [],
   "source": [
    "# Read CSV files (taxi zones and NYC trip details)\n",
    "nyc_trip_details_df = spark.read.option(\"header\", \"true\").csv(\"Data/nyc.csv\")\n",
    "taxi_zones_df= spark.read.option(\"header\", \"true\").csv(\"Data/taxi_zone_lookup.csv\")\n"
   ]
  },
  {
   "cell_type": "code",
   "execution_count": 8,
   "id": "d6e8f941",
   "metadata": {
    "scrolled": false
   },
   "outputs": [
    {
     "name": "stdout",
     "output_type": "stream",
     "text": [
      "root\n",
      " |-- hvfhs_license_num: string (nullable = true)\n",
      " |-- dispatching_base_num: string (nullable = true)\n",
      " |-- originating_base_num: string (nullable = true)\n",
      " |-- request_datetime: timestamp_ntz (nullable = true)\n",
      " |-- on_scene_datetime: timestamp_ntz (nullable = true)\n",
      " |-- pickup_datetime: timestamp_ntz (nullable = true)\n",
      " |-- dropoff_datetime: timestamp_ntz (nullable = true)\n",
      " |-- PULocationID: long (nullable = true)\n",
      " |-- DOLocationID: long (nullable = true)\n",
      " |-- trip_miles: double (nullable = true)\n",
      " |-- trip_time: long (nullable = true)\n",
      " |-- base_passenger_fare: double (nullable = true)\n",
      " |-- tolls: double (nullable = true)\n",
      " |-- bcf: double (nullable = true)\n",
      " |-- sales_tax: double (nullable = true)\n",
      " |-- congestion_surcharge: double (nullable = true)\n",
      " |-- airport_fee: double (nullable = true)\n",
      " |-- tips: double (nullable = true)\n",
      " |-- driver_pay: double (nullable = true)\n",
      " |-- shared_request_flag: string (nullable = true)\n",
      " |-- shared_match_flag: string (nullable = true)\n",
      " |-- access_a_ride_flag: string (nullable = true)\n",
      " |-- wav_request_flag: string (nullable = true)\n",
      " |-- wav_match_flag: string (nullable = true)\n",
      "\n",
      "+-----------------+--------------------+--------------------+-------------------+-------------------+-------------------+-------------------+------------+------------+----------+---------+-------------------+-----+----+---------+--------------------+-----------+----+----------+-------------------+-----------------+------------------+----------------+--------------+\n",
      "|hvfhs_license_num|dispatching_base_num|originating_base_num|   request_datetime|  on_scene_datetime|    pickup_datetime|   dropoff_datetime|PULocationID|DOLocationID|trip_miles|trip_time|base_passenger_fare|tolls| bcf|sales_tax|congestion_surcharge|airport_fee|tips|driver_pay|shared_request_flag|shared_match_flag|access_a_ride_flag|wav_request_flag|wav_match_flag|\n",
      "+-----------------+--------------------+--------------------+-------------------+-------------------+-------------------+-------------------+------------+------------+----------+---------+-------------------+-----+----+---------+--------------------+-----------+----+----------+-------------------+-----------------+------------------+----------------+--------------+\n",
      "|           HV0003|              B02764|              B02764|2021-02-28 23:58:06|2021-03-01 00:06:44|2021-03-01 00:07:07|2021-03-01 00:13:56|          56|          82|      1.35|      409|               7.91|  0.0|0.24|      0.7|                 0.0|       NULL| 0.0|      5.39|                  N|                N|                  |               N|             N|\n",
      "|           HV0003|              B02764|              B02764|2021-03-01 00:12:58|2021-03-01 00:15:00|2021-03-01 00:17:00|2021-03-01 00:38:08|          82|         100|      7.03|     1268|              16.52| 6.12| 0.7|     2.06|                2.75|       NULL| 0.0|     18.38|                  N|                N|                  |               N|             N|\n",
      "|           HV0003|              B02764|              B02764|2021-03-01 00:42:49|2021-03-01 00:46:48|2021-03-01 00:51:29|2021-03-01 01:06:02|         237|         249|      3.53|      873|              27.06|  0.0|0.81|      2.4|                2.75|       NULL| 6.6|     23.14|                  N|                N|                  |               N|             N|\n",
      "|           HV0003|              B02835|              B02835|2021-03-01 00:02:53|2021-03-01 00:06:52|2021-03-01 00:07:16|2021-03-01 00:12:35|         136|         235|      1.04|      319|               7.12|  0.0|0.21|     0.63|                 0.0|       NULL| 0.0|       6.5|                  N|                N|                  |               N|             N|\n",
      "|           HV0003|              B02835|              B02835|2021-03-01 00:11:02|2021-03-01 00:17:20|2021-03-01 00:19:09|2021-03-01 00:27:52|         235|         153|      1.76|      523|               9.22|  0.0|0.28|     0.82|                 0.0|       NULL| 0.0|      7.41|                  N|                N|                  |               N|             N|\n",
      "+-----------------+--------------------+--------------------+-------------------+-------------------+-------------------+-------------------+------------+------------+----------+---------+-------------------+-----+----+---------+--------------------+-----------+----+----------+-------------------+-----------------+------------------+----------------+--------------+\n",
      "only showing top 5 rows\n",
      "\n",
      "root\n",
      " |-- LocationID: string (nullable = true)\n",
      " |-- Borough: string (nullable = true)\n",
      " |-- Zone: string (nullable = true)\n",
      " |-- service_zone: string (nullable = true)\n",
      "\n",
      "+----------+-------------+--------------------+------------+\n",
      "|LocationID|      Borough|                Zone|service_zone|\n",
      "+----------+-------------+--------------------+------------+\n",
      "|         1|          EWR|      Newark Airport|         EWR|\n",
      "|         2|       Queens|         Jamaica Bay|   Boro Zone|\n",
      "|         3|        Bronx|Allerton/Pelham G...|   Boro Zone|\n",
      "|         4|    Manhattan|       Alphabet City| Yellow Zone|\n",
      "|         5|Staten Island|       Arden Heights|   Boro Zone|\n",
      "+----------+-------------+--------------------+------------+\n",
      "only showing top 5 rows\n",
      "\n",
      "root\n",
      " |-- name: string (nullable = true)\n",
      " |-- address: string (nullable = true)\n",
      " |-- resolvedAddress: string (nullable = true)\n",
      " |-- datetime: string (nullable = true)\n",
      " |-- temp: string (nullable = true)\n",
      " |-- feelslike: string (nullable = true)\n",
      " |-- dew: string (nullable = true)\n",
      " |-- humidity: string (nullable = true)\n",
      " |-- precip: string (nullable = true)\n",
      " |-- precipprob: string (nullable = true)\n",
      " |-- preciptype: string (nullable = true)\n",
      " |-- snow: string (nullable = true)\n",
      " |-- snowdepth: string (nullable = true)\n",
      " |-- windgust: string (nullable = true)\n",
      " |-- windspeed: string (nullable = true)\n",
      " |-- winddir: string (nullable = true)\n",
      " |-- sealevelpressure: string (nullable = true)\n",
      " |-- cloudcover: string (nullable = true)\n",
      " |-- visibility: string (nullable = true)\n",
      " |-- uvindex: string (nullable = true)\n",
      " |-- severerisk: string (nullable = true)\n",
      "\n",
      "+----+-------+--------------------+----------+----+---------+----+--------+------+----------+----------+----+---------+--------+---------+-------+----------------+----------+----------+-------+----------+\n",
      "|name|address|     resolvedAddress|  datetime|temp|feelslike| dew|humidity|precip|precipprob|preciptype|snow|snowdepth|windgust|windspeed|winddir|sealevelpressure|cloudcover|visibility|uvindex|severerisk|\n",
      "+----+-------+--------------------+----------+----+---------+----+--------+------+----------+----------+----+---------+--------+---------+-------+----------------+----------+----------+-------+----------+\n",
      "| nyc|    nyc|New York, NY, Uni...|2021-01-01| 2.5|     -0.2|  -3|    67.8| 15.33|       100|      rain|   0|        0|    NULL|     15.5|   69.8|          1028.9|      50.6|        14|      3|      NULL|\n",
      "| nyc|    nyc|New York, NY, Uni...|2021-01-02| 5.8|      3.6| 1.2|      74|  2.38|       100|      rain| 1.9|      0.6|    54.6|     25.5|  246.9|          1012.4|      63.9|      12.2|      5|      NULL|\n",
      "| nyc|    nyc|New York, NY, Uni...|2021-01-03| 2.5|     -1.6|-0.5|    80.7|  5.09|       100| rain,snow| 1.2|      1.7|    42.2|     24.1|   66.4|            1017|      81.5|      13.2|      1|      NULL|\n",
      "| nyc|    nyc|New York, NY, Uni...|2021-01-04| 3.6|      1.1|-0.2|    76.6|  0.84|       100| rain,snow| 0.5|      0.7|    NULL|     17.3|  141.1|          1014.6|      89.3|      15.6|      4|      NULL|\n",
      "| nyc|    nyc|New York, NY, Uni...|2021-01-05| 3.8|      1.3|-1.5|    68.7|     0|         0|      NULL|   0|      0.1|    31.7|     15.2|  124.4|          1013.1|      98.8|        16|      2|      NULL|\n",
      "+----+-------+--------------------+----------+----+---------+----+--------+------+----------+----------+----+---------+--------+---------+-------+----------------+----------+----------+-------+----------+\n",
      "only showing top 5 rows\n",
      "\n"
     ]
    }
   ],
   "source": [
    "# Display schema and sample data for Parquet DataFrame\n",
    "parquet_df.printSchema()\n",
    "parquet_df.show(5)\n",
    "\n",
    "# Display schema and sample data for CSV DataFrames\n",
    "taxi_zones_df.printSchema()\n",
    "taxi_zones_df.show(5)\n",
    "\n",
    "nyc_trip_details_df.printSchema()\n",
    "nyc_trip_details_df.show(5)\n"
   ]
  },
  {
   "cell_type": "code",
   "execution_count": null,
   "id": "e995ff21",
   "metadata": {},
   "outputs": [],
   "source": []
  }
 ],
 "metadata": {
  "kernelspec": {
   "display_name": "Python 3 (ipykernel)",
   "language": "python",
   "name": "python3"
  },
  "language_info": {
   "codemirror_mode": {
    "name": "ipython",
    "version": 3
   },
   "file_extension": ".py",
   "mimetype": "text/x-python",
   "name": "python",
   "nbconvert_exporter": "python",
   "pygments_lexer": "ipython3",
   "version": "3.11.4"
  }
 },
 "nbformat": 4,
 "nbformat_minor": 5
}
